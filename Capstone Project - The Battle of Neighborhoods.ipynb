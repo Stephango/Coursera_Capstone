{
 "cells": [
  {
   "cell_type": "markdown",
   "metadata": {},
   "source": [
    "## Introduction/Business Problem"
   ]
  },
  {
   "cell_type": "markdown",
   "metadata": {},
   "source": [
    "\n",
    "In 2011, the African Development Bank (AfDB) published the study \"Le Milieu du Pyramid, dynamics of the middle class in Africa ”2 which has a notable impact on actors interested in the African market. According to his analysis, the middle classes, made up of people earning between 2 and 20 dollars per day, would display nearly a third of the total African population. Prospects for business development therefore seem considerable for investors. Thus, the African population would no longer be only made up of a small minority of well-to-do and an overwhelming majority of individuals poor, locked into a logic of day-to-day survival, but also of a class nascent intermediary\n",
    "In Cameroon, the proportion of the middle class is between 25% and 75% of the total population. This represents a population of around one million people for the city of Douala alone. As a reminder, Douala is the economic capital of Cameroon, it is the city which knows a high density because of its preference for the rural exodus. \n",
    "\n",
    "In recent years with the growing middle class, consumption habits are gradually changing.Today shopping centers and supermarkets are welcoming more and more customers and are sometimes forced to open several locations to cover a city. Less than 30% of the middle class perform purchases in these places on a weekly basis. However, the supermarkets are particularly popular for foreign products or brand they offer and their purchasing environment they offer to their clients. But they are also a place of outing and leisure, for where we are getting ready, where we spend time, more than a place suitable for daily shopping. \n",
    "Moreover with the growth of urban areas, the state is developing districts that were once inaccessible : these districts today are generally occupied by this middle class. And therefore retail companies, in their desire to increase their turnover are obliged to multiply their sites to capture this new middle class wherever it is found.\n",
    "###### The issue of our study is based on the choice of location for a new supermarket or shopping center using Google Map and Foursquare.\n",
    "This project can interest the potential investors in the retail sector "
   ]
  },
  {
   "cell_type": "markdown",
   "metadata": {},
   "source": [
    "## Data Section"
   ]
  },
  {
   "cell_type": "markdown",
   "metadata": {},
   "source": [
    "For this study we will need geolocation data from Foursquare, Google and Facebook.\n",
    "\n",
    "We are already going to have to locate the city of Douala with all these venues and its neighbourhoods.\n",
    "Then, we will locate the existing supermarkets in the different neighbourhoods of the city. and from a base created with the population of each neighbourhoods we will be able to represent the neighbourhoods, the supermarkets present and the weight of the population.\n",
    "\n",
    "From this graph we will be able to use the Kmeans model to classify the neighborhoods.\n",
    "Finally we can decide in which neighbourhoods we can open a new supermarket."
   ]
  },
  {
   "cell_type": "code",
   "execution_count": null,
   "metadata": {},
   "outputs": [],
   "source": []
  }
 ],
 "metadata": {
  "kernelspec": {
   "display_name": "Python 3",
   "language": "python",
   "name": "python3"
  },
  "language_info": {
   "codemirror_mode": {
    "name": "ipython",
    "version": 3
   },
   "file_extension": ".py",
   "mimetype": "text/x-python",
   "name": "python",
   "nbconvert_exporter": "python",
   "pygments_lexer": "ipython3",
   "version": "3.7.4"
  }
 },
 "nbformat": 4,
 "nbformat_minor": 2
}
